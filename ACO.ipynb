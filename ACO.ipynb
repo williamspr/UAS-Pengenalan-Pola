{
  "cells": [
    {
      "cell_type": "code",
      "source": [
        "import zipfile\n",
        "import numpy as np\n",
        "import cv2\n",
        "\n",
        "# Import dataset gambar pemandangan\n",
        "def load_dataset(path):\n",
        "    data = []\n",
        "    with zipfile.ZipFile(path, 'r') as zip_ref:\n",
        "        for filename in zip_ref.namelist():\n",
        "            if filename.endswith(('.jpg', '.jpeg', '.png')):\n",
        "                with zip_ref.open(filename) as img_file:\n",
        "                    img = cv2.imdecode(np.frombuffer(img_file.read(), np.uint8), -1)\n",
        "                    img = cv2.cvtColor(img, cv2.COLOR_BGR2GRAY)\n",
        "                    label = filename.split(\"/\")[-2].lower()  # Ekstrak label dan ubah ke lowercase\n",
        "                    label_index = hash(label) % 6  # Ubah label ke bilangan bulat positif\n",
        "                    data.append((img, label_index))\n",
        "    return data\n",
        "\n",
        "# Fitur gambar\n",
        "def extract_features(img):\n",
        "    return img.flatten()\n",
        "\n",
        "# Fungsi untuk menentukan kelas gambar\n",
        "def predict_class(features, pheromones):\n",
        "    probs = []\n",
        "    for label in range(6):\n",
        "        probs.append(pheromones[label] * np.exp(-np.sum((features - features_mean[label])**2 / (2 * sigma[label]**2))))\n",
        "    return np.argmax(probs)\n",
        "\n",
        "# Ant Colony Optimization\n",
        "def aco(data, pheromones, alpha, beta, q0, max_iter):\n",
        "    for iter in range(max_iter):\n",
        "        for img, label in data:\n",
        "            features = extract_features(img)\n",
        "            next_label = predict_class(features, pheromones)\n",
        "            label_index = int(label)\n",
        "    return pheromones\n",
        "\n",
        "# Main\n",
        "path = \"/content/Pemandangan.zip\"\n",
        "data = load_dataset(path)\n",
        "features_mean = np.array([np.mean(extract_features(img)) for img, _ in data])\n",
        "sigma = np.array([np.std(extract_features(img)) for img, _ in data])\n",
        "pheromones = np.ones((6,))\n",
        "\n",
        "# Pelatihan\n",
        "pheromones = aco(data, pheromones, alpha=0.5, beta=1.0, q0=0.1, max_iter=100)\n",
        "\n",
        "# Evaluasi\n",
        "correct = 0\n",
        "for img, label in data:\n",
        "    predicted_label = predict_class(extract_features(img), pheromones)\n",
        "    if predicted_label == label:\n",
        "        correct += 1\n",
        "accuracy = correct / len(data) * 100\n",
        "\n",
        "print(\"Akurasi:\", accuracy, \"%\")"
      ],
      "metadata": {
        "id": "dhptAeR48Zzy"
      },
      "execution_count": null,
      "outputs": []
    }
  ],
  "metadata": {
    "colab": {
      "provenance": []
    },
    "kernelspec": {
      "display_name": "Python 3",
      "name": "python3"
    },
    "language_info": {
      "name": "python"
    }
  },
  "nbformat": 4,
  "nbformat_minor": 0
}